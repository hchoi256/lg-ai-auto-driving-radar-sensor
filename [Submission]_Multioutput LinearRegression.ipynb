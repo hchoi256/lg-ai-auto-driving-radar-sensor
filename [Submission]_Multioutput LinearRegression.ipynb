{
 "cells": [
  {
   "cell_type": "markdown",
   "id": "fd510dcf-85b2-4396-858c-a14a37960c76",
   "metadata": {},
   "source": [
    "## Importing the libraries"
   ]
  },
  {
   "cell_type": "code",
   "execution_count": 1,
   "id": "5c415d9d-1111-46ed-bc2d-849c75ab962a",
   "metadata": {},
   "outputs": [],
   "source": [
    "import pandas as pd\n",
    "import random\n",
    "import os\n",
    "import numpy as np\n",
    "import matplotlib.pyplot as plt\n",
    "import tensorflow as tf\n",
    "\n",
    "from sklearn.linear_model import LinearRegression\n",
    "from sklearn.multioutput import MultiOutputRegressor\n",
    "\n",
    "# import xgboost as xgb"
   ]
  },
  {
   "cell_type": "code",
   "execution_count": 2,
   "id": "edae871a-b31b-4f06-bb88-0fd1f6660b13",
   "metadata": {},
   "outputs": [],
   "source": [
    "def seed_everything(seed):\n",
    "    random.seed(seed)\n",
    "    os.environ['PYTHONHASHSEED'] = str(seed)\n",
    "    np.random.seed(seed)\n",
    "seed_everything(42) # Seed 고정"
   ]
  },
  {
   "cell_type": "markdown",
   "id": "18003e8e-4227-4e98-98de-0861ba8dc6cc",
   "metadata": {},
   "source": [
    "## Importing the dataset"
   ]
  },
  {
   "cell_type": "code",
   "execution_count": 3,
   "id": "ee76c413-001b-475e-9d1c-6662d25d2db2",
   "metadata": {},
   "outputs": [],
   "source": [
    "train_df = pd.read_csv('./train_master.csv')"
   ]
  },
  {
   "cell_type": "code",
   "execution_count": 4,
   "id": "ffc6afcd-a059-4c16-81a5-ab3d4d750a41",
   "metadata": {},
   "outputs": [],
   "source": [
    "X = train_df.filter(regex='X') # Input : X Featrue\n",
    "y = train_df.filter(regex='Y') # Output : Y Feature"
   ]
  },
  {
   "cell_type": "markdown",
   "id": "ba6ee7d0",
   "metadata": {},
   "source": [
    "## Splitting the dataset into the Training set and Test set"
   ]
  },
  {
   "cell_type": "code",
   "execution_count": 5,
   "id": "8d05a92f",
   "metadata": {},
   "outputs": [
    {
     "name": "stdout",
     "output_type": "stream",
     "text": [
      "(31685, 56)\n",
      "(7922, 56)\n"
     ]
    }
   ],
   "source": [
    "from sklearn.model_selection import train_test_split\n",
    "X_train, X_test, y_train, y_test = train_test_split(X, y, test_size = 0.2, random_state = 0)\n",
    "\n",
    "print(X_train.shape)\n",
    "print(X_test.shape)"
   ]
  },
  {
   "cell_type": "code",
   "execution_count": 6,
   "id": "04e1c171",
   "metadata": {},
   "outputs": [
    {
     "data": {
      "text/html": [
       "<div>\n",
       "<style scoped>\n",
       "    .dataframe tbody tr th:only-of-type {\n",
       "        vertical-align: middle;\n",
       "    }\n",
       "\n",
       "    .dataframe tbody tr th {\n",
       "        vertical-align: top;\n",
       "    }\n",
       "\n",
       "    .dataframe thead th {\n",
       "        text-align: right;\n",
       "    }\n",
       "</style>\n",
       "<table border=\"1\" class=\"dataframe\">\n",
       "  <thead>\n",
       "    <tr style=\"text-align: right;\">\n",
       "      <th></th>\n",
       "      <th>X_01</th>\n",
       "      <th>X_02</th>\n",
       "      <th>X_03</th>\n",
       "      <th>X_04</th>\n",
       "      <th>X_05</th>\n",
       "      <th>X_06</th>\n",
       "      <th>X_07</th>\n",
       "      <th>X_08</th>\n",
       "      <th>X_09</th>\n",
       "      <th>X_10</th>\n",
       "      <th>...</th>\n",
       "      <th>X_47</th>\n",
       "      <th>X_48</th>\n",
       "      <th>X_49</th>\n",
       "      <th>X_50</th>\n",
       "      <th>X_51</th>\n",
       "      <th>X_52</th>\n",
       "      <th>X_53</th>\n",
       "      <th>X_54</th>\n",
       "      <th>X_55</th>\n",
       "      <th>X_56</th>\n",
       "    </tr>\n",
       "  </thead>\n",
       "  <tbody>\n",
       "    <tr>\n",
       "      <th>count</th>\n",
       "      <td>7922.000000</td>\n",
       "      <td>7922.000000</td>\n",
       "      <td>7922.000000</td>\n",
       "      <td>7922.0</td>\n",
       "      <td>7922.000000</td>\n",
       "      <td>7922.000000</td>\n",
       "      <td>7922.000000</td>\n",
       "      <td>7922.000000</td>\n",
       "      <td>7922.000000</td>\n",
       "      <td>7922.000000</td>\n",
       "      <td>...</td>\n",
       "      <td>7922.0</td>\n",
       "      <td>7922.0</td>\n",
       "      <td>7922.000000</td>\n",
       "      <td>7922.000000</td>\n",
       "      <td>7922.000000</td>\n",
       "      <td>7922.000000</td>\n",
       "      <td>7922.000000</td>\n",
       "      <td>7922.000000</td>\n",
       "      <td>7922.000000</td>\n",
       "      <td>7922.000000</td>\n",
       "    </tr>\n",
       "    <tr>\n",
       "      <th>mean</th>\n",
       "      <td>68.380588</td>\n",
       "      <td>103.320168</td>\n",
       "      <td>68.897897</td>\n",
       "      <td>1.0</td>\n",
       "      <td>102.329946</td>\n",
       "      <td>70.598623</td>\n",
       "      <td>29.307811</td>\n",
       "      <td>167.596115</td>\n",
       "      <td>224.739763</td>\n",
       "      <td>0.001578</td>\n",
       "      <td>...</td>\n",
       "      <td>1.0</td>\n",
       "      <td>1.0</td>\n",
       "      <td>16810.521548</td>\n",
       "      <td>130.830347</td>\n",
       "      <td>131.430669</td>\n",
       "      <td>138.650715</td>\n",
       "      <td>128.014893</td>\n",
       "      <td>127.978723</td>\n",
       "      <td>137.885702</td>\n",
       "      <td>128.451127</td>\n",
       "    </tr>\n",
       "    <tr>\n",
       "      <th>std</th>\n",
       "      <td>2.635664</td>\n",
       "      <td>0.000374</td>\n",
       "      <td>5.199738</td>\n",
       "      <td>0.0</td>\n",
       "      <td>0.545356</td>\n",
       "      <td>2.267708</td>\n",
       "      <td>6.444187</td>\n",
       "      <td>229.252687</td>\n",
       "      <td>66.478693</td>\n",
       "      <td>0.070322</td>\n",
       "      <td>...</td>\n",
       "      <td>0.0</td>\n",
       "      <td>0.0</td>\n",
       "      <td>8802.561486</td>\n",
       "      <td>6.113569</td>\n",
       "      <td>6.056716</td>\n",
       "      <td>6.563279</td>\n",
       "      <td>5.846209</td>\n",
       "      <td>5.509840</td>\n",
       "      <td>6.702075</td>\n",
       "      <td>5.564762</td>\n",
       "    </tr>\n",
       "    <tr>\n",
       "      <th>min</th>\n",
       "      <td>59.327000</td>\n",
       "      <td>103.320000</td>\n",
       "      <td>56.470000</td>\n",
       "      <td>1.0</td>\n",
       "      <td>101.791000</td>\n",
       "      <td>62.746000</td>\n",
       "      <td>23.990000</td>\n",
       "      <td>42.530000</td>\n",
       "      <td>37.580000</td>\n",
       "      <td>0.000000</td>\n",
       "      <td>...</td>\n",
       "      <td>1.0</td>\n",
       "      <td>1.0</td>\n",
       "      <td>3382.630000</td>\n",
       "      <td>21.800000</td>\n",
       "      <td>21.910000</td>\n",
       "      <td>23.100000</td>\n",
       "      <td>21.330000</td>\n",
       "      <td>21.340000</td>\n",
       "      <td>22.980000</td>\n",
       "      <td>21.410000</td>\n",
       "    </tr>\n",
       "    <tr>\n",
       "      <th>25%</th>\n",
       "      <td>66.465000</td>\n",
       "      <td>103.320000</td>\n",
       "      <td>65.170000</td>\n",
       "      <td>1.0</td>\n",
       "      <td>101.949000</td>\n",
       "      <td>68.864000</td>\n",
       "      <td>27.870000</td>\n",
       "      <td>106.147500</td>\n",
       "      <td>188.540000</td>\n",
       "      <td>0.000000</td>\n",
       "      <td>...</td>\n",
       "      <td>1.0</td>\n",
       "      <td>1.0</td>\n",
       "      <td>13073.105000</td>\n",
       "      <td>126.939235</td>\n",
       "      <td>127.648589</td>\n",
       "      <td>134.472969</td>\n",
       "      <td>124.379084</td>\n",
       "      <td>124.617884</td>\n",
       "      <td>133.723875</td>\n",
       "      <td>125.186485</td>\n",
       "    </tr>\n",
       "    <tr>\n",
       "      <th>50%</th>\n",
       "      <td>68.504000</td>\n",
       "      <td>103.320000</td>\n",
       "      <td>67.270000</td>\n",
       "      <td>1.0</td>\n",
       "      <td>102.005000</td>\n",
       "      <td>69.884000</td>\n",
       "      <td>28.820000</td>\n",
       "      <td>115.080000</td>\n",
       "      <td>234.330000</td>\n",
       "      <td>0.000000</td>\n",
       "      <td>...</td>\n",
       "      <td>1.0</td>\n",
       "      <td>1.0</td>\n",
       "      <td>15286.230000</td>\n",
       "      <td>130.792524</td>\n",
       "      <td>131.314144</td>\n",
       "      <td>138.631429</td>\n",
       "      <td>128.010119</td>\n",
       "      <td>128.092915</td>\n",
       "      <td>137.943318</td>\n",
       "      <td>128.403560</td>\n",
       "    </tr>\n",
       "    <tr>\n",
       "      <th>75%</th>\n",
       "      <td>69.524000</td>\n",
       "      <td>103.320000</td>\n",
       "      <td>71.970000</td>\n",
       "      <td>1.0</td>\n",
       "      <td>103.144000</td>\n",
       "      <td>71.923000</td>\n",
       "      <td>29.860000</td>\n",
       "      <td>132.895000</td>\n",
       "      <td>263.955000</td>\n",
       "      <td>0.000000</td>\n",
       "      <td>...</td>\n",
       "      <td>1.0</td>\n",
       "      <td>1.0</td>\n",
       "      <td>17634.730000</td>\n",
       "      <td>134.629124</td>\n",
       "      <td>135.116899</td>\n",
       "      <td>142.758540</td>\n",
       "      <td>131.629347</td>\n",
       "      <td>131.442326</td>\n",
       "      <td>142.149664</td>\n",
       "      <td>131.851822</td>\n",
       "    </tr>\n",
       "    <tr>\n",
       "      <th>max</th>\n",
       "      <td>84.820000</td>\n",
       "      <td>103.321000</td>\n",
       "      <td>86.670000</td>\n",
       "      <td>1.0</td>\n",
       "      <td>103.160000</td>\n",
       "      <td>85.180000</td>\n",
       "      <td>163.860000</td>\n",
       "      <td>2387.440000</td>\n",
       "      <td>633.890000</td>\n",
       "      <td>3.300000</td>\n",
       "      <td>...</td>\n",
       "      <td>1.0</td>\n",
       "      <td>1.0</td>\n",
       "      <td>114563.630000</td>\n",
       "      <td>162.619458</td>\n",
       "      <td>194.513195</td>\n",
       "      <td>173.438623</td>\n",
       "      <td>152.406630</td>\n",
       "      <td>149.941395</td>\n",
       "      <td>170.155980</td>\n",
       "      <td>155.277538</td>\n",
       "    </tr>\n",
       "  </tbody>\n",
       "</table>\n",
       "<p>8 rows × 56 columns</p>\n",
       "</div>"
      ],
      "text/plain": [
       "              X_01         X_02         X_03    X_04         X_05  \\\n",
       "count  7922.000000  7922.000000  7922.000000  7922.0  7922.000000   \n",
       "mean     68.380588   103.320168    68.897897     1.0   102.329946   \n",
       "std       2.635664     0.000374     5.199738     0.0     0.545356   \n",
       "min      59.327000   103.320000    56.470000     1.0   101.791000   \n",
       "25%      66.465000   103.320000    65.170000     1.0   101.949000   \n",
       "50%      68.504000   103.320000    67.270000     1.0   102.005000   \n",
       "75%      69.524000   103.320000    71.970000     1.0   103.144000   \n",
       "max      84.820000   103.321000    86.670000     1.0   103.160000   \n",
       "\n",
       "              X_06         X_07         X_08         X_09         X_10  ...  \\\n",
       "count  7922.000000  7922.000000  7922.000000  7922.000000  7922.000000  ...   \n",
       "mean     70.598623    29.307811   167.596115   224.739763     0.001578  ...   \n",
       "std       2.267708     6.444187   229.252687    66.478693     0.070322  ...   \n",
       "min      62.746000    23.990000    42.530000    37.580000     0.000000  ...   \n",
       "25%      68.864000    27.870000   106.147500   188.540000     0.000000  ...   \n",
       "50%      69.884000    28.820000   115.080000   234.330000     0.000000  ...   \n",
       "75%      71.923000    29.860000   132.895000   263.955000     0.000000  ...   \n",
       "max      85.180000   163.860000  2387.440000   633.890000     3.300000  ...   \n",
       "\n",
       "         X_47    X_48           X_49         X_50         X_51         X_52  \\\n",
       "count  7922.0  7922.0    7922.000000  7922.000000  7922.000000  7922.000000   \n",
       "mean      1.0     1.0   16810.521548   130.830347   131.430669   138.650715   \n",
       "std       0.0     0.0    8802.561486     6.113569     6.056716     6.563279   \n",
       "min       1.0     1.0    3382.630000    21.800000    21.910000    23.100000   \n",
       "25%       1.0     1.0   13073.105000   126.939235   127.648589   134.472969   \n",
       "50%       1.0     1.0   15286.230000   130.792524   131.314144   138.631429   \n",
       "75%       1.0     1.0   17634.730000   134.629124   135.116899   142.758540   \n",
       "max       1.0     1.0  114563.630000   162.619458   194.513195   173.438623   \n",
       "\n",
       "              X_53         X_54         X_55         X_56  \n",
       "count  7922.000000  7922.000000  7922.000000  7922.000000  \n",
       "mean    128.014893   127.978723   137.885702   128.451127  \n",
       "std       5.846209     5.509840     6.702075     5.564762  \n",
       "min      21.330000    21.340000    22.980000    21.410000  \n",
       "25%     124.379084   124.617884   133.723875   125.186485  \n",
       "50%     128.010119   128.092915   137.943318   128.403560  \n",
       "75%     131.629347   131.442326   142.149664   131.851822  \n",
       "max     152.406630   149.941395   170.155980   155.277538  \n",
       "\n",
       "[8 rows x 56 columns]"
      ]
     },
     "execution_count": 6,
     "metadata": {},
     "output_type": "execute_result"
    }
   ],
   "source": [
    "X_test.describe()"
   ]
  },
  {
   "cell_type": "markdown",
   "id": "1b31c09d",
   "metadata": {},
   "source": [
    "## Feature Scaling"
   ]
  },
  {
   "cell_type": "code",
   "execution_count": 7,
   "id": "5f29c1ab",
   "metadata": {},
   "outputs": [],
   "source": [
    "# from sklearn.preprocessing import MinMaxScaler\n",
    "# sc_X = MinMaxScaler()\n",
    "# sc_y = MinMaxScaler()\n",
    "# X_train = sc_X.fit_transform(X_train)\n",
    "# y_train = sc_y.fit_transform(y_train)\n",
    "\n",
    "# 중앙값과 IQR 사용하여 아웃라이어의 영향 최소화\n",
    "from sklearn.preprocessing import RobustScaler\n",
    "\n",
    "rbst_scaler=RobustScaler()\n",
    "X_train=rbst_scaler.fit_transform(X_train)\n",
    "X_test=rbst_scaler.transform(X_test)"
   ]
  },
  {
   "cell_type": "markdown",
   "id": "d8ddc03e-78a5-4ffe-acdb-7c97e9b5fe09",
   "metadata": {},
   "source": [
    "## Building the ANN"
   ]
  },
  {
   "cell_type": "code",
   "execution_count": 8,
   "id": "1e133391",
   "metadata": {},
   "outputs": [],
   "source": [
    "# from scikeras.wrappers import KerasRegressor\n",
    "# from keras.models import Sequential \n",
    "# from keras.layers import Dense, Dropout\n",
    "# from keras.optimizers import Adam"
   ]
  },
  {
   "cell_type": "code",
   "execution_count": 9,
   "id": "d2d342cf",
   "metadata": {},
   "outputs": [],
   "source": [
    "# def build_nn():\n",
    "#     ann = Sequential()\n",
    "#     ann.add(Dense(64, input_dim=X_train.shape[1], activation='relu'))\n",
    "#     ann.add(Dense(64, activation='relu'))\n",
    "#     ann.add(Dropout(0.2))\n",
    "#     ann.add(Dense(1))\n",
    "#     ann.compile(optimizer = 'adam', loss = 'mse', metrics = ['accuracy'])\n",
    "    \n",
    "#     return ann"
   ]
  },
  {
   "cell_type": "code",
   "execution_count": 10,
   "id": "6f9edbe4",
   "metadata": {},
   "outputs": [],
   "source": [
    "# random_state = 42\n",
    "\n",
    "# early_stop = tf.keras.callbacks.EarlyStopping(monitor='loss', patience=1, verbose=0)\n",
    "\n",
    "# k_regressor = KerasRegressor(model = build_nn, optimizer=\"adam\", \n",
    "#     optimizer__learning_rate=0.001, epochs=100, verbose=0, callbacks=[early_stop])"
   ]
  },
  {
   "cell_type": "markdown",
   "id": "eb4ee8eb",
   "metadata": {},
   "source": [
    "## Building the model"
   ]
  },
  {
   "cell_type": "code",
   "execution_count": 11,
   "id": "aa20e835",
   "metadata": {},
   "outputs": [],
   "source": [
    "from sklearn.ensemble import StackingRegressor\n",
    "from sklearn.ensemble import RandomForestRegressor, GradientBoostingRegressor\n",
    "from xgboost import XGBRegressor\n",
    "from lightgbm import LGBMRegressor\n",
    "from sklearn.linear_model import ElasticNet, Lasso, LinearRegression\n",
    "from sklearn.multioutput import MultiOutputRegressor\n",
    "from sklearn.svm import SVR"
   ]
  },
  {
   "cell_type": "code",
   "execution_count": 12,
   "id": "c37902a8",
   "metadata": {},
   "outputs": [],
   "source": [
    "estimators = []\n",
    "\n",
    "# 일반적으로 높은 성능을 보이는 모델들\n",
    "estimators.append(('lasso', Lasso()))\n",
    "estimators.append(('elasticnet', ElasticNet()))\n",
    "# estimators.append(('rf', RandomForestRegressor())) 1h ↑\n",
    "# estimators.append(('gbr', GradientBoostingRegressor())) 1h ↑\n",
    "# estimators.append(('xgb', XGBRegressor())) # 20m\n",
    "# estimators.append(('lgbm', LGBMRegressor())) ?\n",
    "estimators.append(('linear', LinearRegression()))\n",
    "# estimators.append(('svr', SVR())) 1h ↑\n",
    "# estimators.append(('ann', k_regressor)) 20m ↑"
   ]
  },
  {
   "cell_type": "code",
   "execution_count": 13,
   "id": "a6509b7b",
   "metadata": {},
   "outputs": [],
   "source": [
    "# lg_nrmse 수치 비교\n",
    "# 전체 0.7133729798071168\n",
    "# svr 0.680729299180608\n",
    "# linear 0.6759044272755277 (1.0645019615447864)\n",
    "# lgbm 0.6946691154605198\n",
    "# xgb 0.6908788450193392\n",
    "# gbr 0.7008013449344662\n",
    "# rf 0.6931997759450955\n",
    "# elasticnet 0.6772944259379241 (1.0430991032855124)\n",
    "\n",
    "# elasticnet + linear = 0.6747423563888522 (1.064536665606918)\n",
    "# elasticnet + lasso = (1.0431273649624482)\n",
    "# 전체 데이터셋 우승자: lasso\n"
   ]
  },
  {
   "cell_type": "code",
   "execution_count": 14,
   "id": "fdd8cf09",
   "metadata": {},
   "outputs": [
    {
     "name": "stdout",
     "output_type": "stream",
     "text": [
      "Done.\n"
     ]
    }
   ],
   "source": [
    "stacker = StackingRegressor(estimators=estimators, final_estimator = XGBRegressor(n_estimators=100, learning_rate=0.08, gamma = 0, subsample=0.75, colsample_bytree = 1, max_depth=7))\n",
    "regressor = MultiOutputRegressor(estimator=stacker)\n",
    "\n",
    "regressor.fit(X_train, y_train)\n",
    "print('Done.')"
   ]
  },
  {
   "cell_type": "markdown",
   "id": "d1146c73",
   "metadata": {},
   "source": [
    "## Predicting the Test set results"
   ]
  },
  {
   "cell_type": "code",
   "execution_count": 15,
   "id": "417a7973",
   "metadata": {},
   "outputs": [
    {
     "name": "stdout",
     "output_type": "stream",
     "text": [
      "[[[  1.32   1.08   0.94 ... -26.15 -26.06 -26.11]\n",
      "  [  1.32   1.1    0.96 ... -25.69 -25.74 -25.71]]\n",
      "\n",
      " [[  1.36   1.08   1.06 ... -26.13 -26.12 -26.16]\n",
      "  [  2.5    1.69   2.26 ... -26.18 -26.12 -25.96]]\n",
      "\n",
      " [[  1.22   0.99   0.93 ... -26.18 -26.16 -26.21]\n",
      "  [  1.97   1.43   1.65 ... -24.73 -24.8  -24.51]]\n",
      "\n",
      " ...\n",
      "\n",
      " [[  1.34   1.     1.01 ... -26.24 -26.28 -26.31]\n",
      "  [  1.54   1.11   1.4  ... -26.55 -26.64 -26.38]]\n",
      "\n",
      " [[  1.33   0.96   0.96 ... -26.39 -26.39 -26.38]\n",
      "  [  1.07   0.24   0.7  ... -27.48 -27.48 -27.58]]\n",
      "\n",
      " [[  1.4    1.11   1.13 ... -26.19 -26.25 -26.24]\n",
      "  [  1.68   1.39   1.5  ... -25.17 -25.04 -25.02]]]\n"
     ]
    }
   ],
   "source": [
    "y_pred = regressor.predict(X_test)\n",
    "np.set_printoptions(precision=2)\n",
    "print(np.concatenate((y_pred.reshape(len(y_pred),1,14), y_test.values.reshape(len(y_test),1,14)),1))"
   ]
  },
  {
   "cell_type": "markdown",
   "id": "27b21588",
   "metadata": {},
   "source": [
    "## Evaluating the Model Performance"
   ]
  },
  {
   "cell_type": "markdown",
   "id": "df4e6620",
   "metadata": {},
   "source": [
    "###  Defining loss function"
   ]
  },
  {
   "cell_type": "code",
   "execution_count": 16,
   "id": "deeef078",
   "metadata": {},
   "outputs": [],
   "source": [
    "def lg_nrmse(gt, preds):\n",
    "    # 각 Y Feature별 NRMSE 총합\n",
    "    # Y_01 ~ Y_08 까지 20% 가중치 부여\n",
    "    all_nrmse = []\n",
    "    for idx in range(1,15): # ignore 'ID'\n",
    "        rmse = metrics.mean_squared_error(gt[:,idx], preds[:,idx], squared=False)\n",
    "        nrmse = rmse/np.mean(np.abs(gt[:,idx]))\n",
    "        all_nrmse.append(nrmse)\n",
    "    score = 1.2 * np.sum(all_nrmse[:8]) + 1.0 * np.sum(all_nrmse[8:15])\n",
    "    return score"
   ]
  },
  {
   "cell_type": "code",
   "execution_count": 17,
   "id": "3ed7a607",
   "metadata": {},
   "outputs": [
    {
     "name": "stdout",
     "output_type": "stream",
     "text": [
      "1.0600093093784524\n"
     ]
    }
   ],
   "source": [
    "import sklearn.metrics as metrics\n",
    "\n",
    "print(lg_nrmse(y_test.values.reshape(1, len(y_test), 14), y_pred.reshape(1, len(y_pred), 14)))"
   ]
  },
  {
   "cell_type": "markdown",
   "id": "87d0d91b",
   "metadata": {},
   "source": [
    "### KFold Cross Validation"
   ]
  },
  {
   "cell_type": "code",
   "execution_count": 18,
   "id": "7c305b8b",
   "metadata": {},
   "outputs": [],
   "source": [
    "# from sklearn.model_selection import cross_val_score\n",
    "# accuracies = cross_val_score(estimator = regressor, X = X_train, y = y_train, cv = 5)\n",
    "# print(\"Accuracy: {:.2f} %\".format(accuracies.mean()*100))\n",
    "# print(\"Standard Deviation: {:.2f} %\".format(accuracies.std()*100))"
   ]
  },
  {
   "cell_type": "markdown",
   "id": "cf78d7d3",
   "metadata": {},
   "source": [
    "### Applying Grid Search to find the best model and the best parameters"
   ]
  },
  {
   "cell_type": "code",
   "execution_count": 19,
   "id": "f5b9e65b",
   "metadata": {},
   "outputs": [],
   "source": [
    "# from sklearn.multioutput import MultiOutputRegressor\n",
    "# from sklearn.svm import SVR\n",
    "# from sklearn.model_selection import GridSearchCV\n",
    "# from sklearn.pipeline import Pipeline\n",
    "\n",
    "# # pipe_svr = Pipeline([('reg', MultiOutputRegressor(SVR()))])\n",
    "# pipe_svr = Pipeline([('linear', LinearRegression()),\n",
    "#                      ('svr', MultiOutputRegressor(SVR()))])\n",
    "# # pipe_svr = Pipeline([('reg', regressor)])\n",
    "\n",
    "# grid_param_svr = {\n",
    "#     #'reg__estimator__C': [0, 0.1, 10]\n",
    "# }\n",
    "\n",
    "# gs_svr = (GridSearchCV(estimator=pipe_svr, \n",
    "#                       param_grid=grid_param_svr, \n",
    "#                       cv=2,\n",
    "#                       scoring = lg_nrmse,#'neg_mean_squared_error',\n",
    "#                       n_jobs = -1))\n",
    "\n",
    "# gs_svr = gs_svr.fit(X_train,y_train)\n",
    "# gs_svr.best_estimator_    \n",
    "\n",
    "# Pipeline(steps=[('linear', LinearRegression(copy_X=False, fit_intercept=False, n_jobs=1, normalize=False, positive=False)),\n",
    "#                 ('svr', SVR(C=10, cache_size=200, coef0=0.0, degree=3, epsilon=0.1, gamma='auto', kernel='rbf', max_iter=-1, shrinking=True, tol=0.001, verbose=False))])\n",
    "# # dict_keys(['C', 'cache_size', 'coef0', 'degree', 'epsilon', 'gamma', 'kernel', 'max_iter', 'shrinking', 'tol', 'verbose'])\n",
    "# print(\"Best Accuracy: {:.2f} %\".format(gs_svr.best_score_*100))\n",
    "# print(\"Best Parameters:\", gs_svr.best_params_)\n",
    "# print(\"Best Estimator:\", gs_svr.best_estimator_)"
   ]
  },
  {
   "cell_type": "markdown",
   "id": "9832a1e4",
   "metadata": {},
   "source": [
    "## Visualizing the Test set results"
   ]
  },
  {
   "cell_type": "code",
   "execution_count": 20,
   "id": "db544f78",
   "metadata": {},
   "outputs": [],
   "source": [
    "# from matplotlib.colors import ListedColormap\n",
    "# X_set, y_set = X_test, y_test\n",
    "# X1, X2 = np.meshgrid(np.arange(start = X_set[:, 0].min() - 1, stop = X_set[:, 0].max() + 1, step = 0.01),\n",
    "#                      np.arange(start = X_set[:, 1].min() - 1, stop = X_set[:, 1].max() + 1, step = 0.01))\n",
    "# plt.contourf(X1, X2, classifier.predict(np.array([X1.ravel(), X2.ravel()]).T).reshape(X1.shape),\n",
    "#              alpha = 0.75, cmap = ListedColormap(('red', 'green')))\n",
    "# plt.xlim(X1.min(), X1.max())\n",
    "# plt.ylim(X2.min(), X2.max())\n",
    "# for i, j in enumerate(np.unique(y_set)):\n",
    "#     plt.scatter(X_set[y_set == j, 0], X_set[y_set == j, 1],\n",
    "#                 c = ListedColormap(('red', 'green'))(i), label = j)\n",
    "# plt.title('Kernel SVM (Test set)')\n",
    "# plt.xlabel('Age')\n",
    "# plt.ylabel('Estimated Salary')\n",
    "# plt.legend()\n",
    "# plt.show()"
   ]
  },
  {
   "cell_type": "markdown",
   "id": "ca6c1a72-b593-4caa-b042-4a7c581b3e46",
   "metadata": {},
   "source": [
    "## Inference"
   ]
  },
  {
   "cell_type": "code",
   "execution_count": 21,
   "id": "98aba1db-4653-42eb-9e28-0cbdd327bc04",
   "metadata": {},
   "outputs": [],
   "source": [
    "test_x = pd.read_csv('./test_master.csv').drop(columns=['ID'])"
   ]
  },
  {
   "cell_type": "code",
   "execution_count": 22,
   "id": "33b68656-3d7d-4221-b508-24d0d7622179",
   "metadata": {},
   "outputs": [
    {
     "name": "stdout",
     "output_type": "stream",
     "text": [
      "Done.\n"
     ]
    }
   ],
   "source": [
    "preds = regressor.predict(rbst_scaler.transform(test_x))\n",
    "print('Done.')"
   ]
  },
  {
   "cell_type": "markdown",
   "id": "6f41cc9f-5cc4-4b03-9640-8c1982a7acad",
   "metadata": {},
   "source": [
    "## Submit"
   ]
  },
  {
   "cell_type": "code",
   "execution_count": 23,
   "id": "20c5e156-d7c4-400f-b552-0bb86ebfd3e3",
   "metadata": {},
   "outputs": [],
   "source": [
    "submit = pd.read_csv('./sample_submission.csv')"
   ]
  },
  {
   "cell_type": "code",
   "execution_count": 24,
   "id": "5b869ab6-6852-45a1-bc75-39dee40b583f",
   "metadata": {},
   "outputs": [
    {
     "name": "stdout",
     "output_type": "stream",
     "text": [
      "Done.\n"
     ]
    }
   ],
   "source": [
    "for idx, col in enumerate(submit.columns):\n",
    "    if col=='ID':\n",
    "        continue\n",
    "    submit[col] = preds[:,idx-1]\n",
    "print('Done.')"
   ]
  },
  {
   "cell_type": "code",
   "execution_count": 25,
   "id": "026b00cd-5680-4bf2-b7f8-0bea6ae8299e",
   "metadata": {},
   "outputs": [],
   "source": [
    "submit.to_csv('./submit.csv', index=False)"
   ]
  },
  {
   "cell_type": "code",
   "execution_count": null,
   "id": "91677ade",
   "metadata": {},
   "outputs": [],
   "source": []
  }
 ],
 "metadata": {
  "kernelspec": {
   "display_name": "Python 3.9.6 64-bit",
   "language": "python",
   "name": "python3"
  },
  "language_info": {
   "codemirror_mode": {
    "name": "ipython",
    "version": 3
   },
   "file_extension": ".py",
   "mimetype": "text/x-python",
   "name": "python",
   "nbconvert_exporter": "python",
   "pygments_lexer": "ipython3",
   "version": "3.9.6"
  },
  "vscode": {
   "interpreter": {
    "hash": "fb0118d73d3d26f88e0d1e3500a56a7fc92e760d5128bb0bdb4d57f6bad5166f"
   }
  }
 },
 "nbformat": 4,
 "nbformat_minor": 5
}
